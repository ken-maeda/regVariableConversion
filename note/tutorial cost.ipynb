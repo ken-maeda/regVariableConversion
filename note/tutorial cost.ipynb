{
 "cells": [
  {
   "cell_type": "code",
   "execution_count": 1,
   "metadata": {},
   "outputs": [],
   "source": [
    "import sys\n",
    "sys.path.append(\"..\")\n",
    "\n",
    "import numpy as np\n",
    "import pandas as pd\n",
    "import matplotlib.pyplot as plt\n",
    "import seaborn as sns\n",
    "from pathlib import Path\n",
    "import statsmodels.api as sm\n",
    "import statsmodels.formula.api as smf\n",
    "\n",
    "from rvc import rvc"
   ]
  },
  {
   "cell_type": "code",
   "execution_count": 10,
   "metadata": {},
   "outputs": [
    {
     "data": {
      "image/png": "[encoded data removed]",
      "text/plain": [
       "<Figure size 640x480 with 1 Axes>"
      ]
     },
     "metadata": {},
     "output_type": "display_data"
    }
   ],
   "source": [
    "kwargs = {\"comb\": 5} # defualt\n",
    "RVC = rvc(**kwargs)\n",
    "plt.plot(np.arange(1, len(RVC.comb_nCr)), RVC.comb_nCr[1:], color=\"k\")\n",
    "plt.scatter(np.arange(1, len(RVC.comb_nCr)), RVC.comb_nCr[1:])\n",
    "plt.xticks([1,2,3,4,5])\n",
    "plt.xlabel(\"variables number\")\n",
    "plt.ylabel(\"combination number\")\n",
    "plt.text(4.6, RVC.comb_nCr[-1]-50, RVC.comb_nCr[-1])\n",
    "plt.show()"
   ]
  },
  {
   "cell_type": "code",
   "execution_count": 2,
   "metadata": {},
   "outputs": [
    {
     "name": "stderr",
     "output_type": "stream",
     "text": [
      "100%|██████████| 5/5 [00:15<00:00,  3.10s/it]\n"
     ]
    },
    {
     "name": "stdout",
     "output_type": "stream",
     "text": [
      "[Result/X0]:mse,homo:2,4 >> homo\n"
     ]
    },
    {
     "name": "stderr",
     "output_type": "stream",
     "text": [
      "100%|██████████| 5/5 [00:15<00:00,  3.07s/it]\n"
     ]
    },
    {
     "name": "stdout",
     "output_type": "stream",
     "text": [
      "[Result/X1]:mse,homo:4,5 >> homo\n"
     ]
    },
    {
     "name": "stderr",
     "output_type": "stream",
     "text": [
      "100%|██████████| 5/5 [00:15<00:00,  3.13s/it]\n"
     ]
    },
    {
     "name": "stdout",
     "output_type": "stream",
     "text": [
      "[Result/X2]:r is 0.2711404582935719 >> 1d\n"
     ]
    },
    {
     "name": "stderr",
     "output_type": "stream",
     "text": [
      "100%|██████████| 5/5 [00:15<00:00,  3.13s/it]"
     ]
    },
    {
     "name": "stdout",
     "output_type": "stream",
     "text": [
      "[Result/X3]:r is 0.1535596796629648 >> 1d\n"
     ]
    },
    {
     "name": "stderr",
     "output_type": "stream",
     "text": [
      "\n"
     ]
    }
   ],
   "source": [
    "dfx = pd.read_csv(\"../data/df_g1.csv\", index_col=0, usecols=[0, 1, 2, 3, 4, 5])\n",
    "RVC = rvc()\n",
    "out = RVC.fit(dfx, \"EP\")"
   ]
  },
  {
   "cell_type": "code",
   "execution_count": 15,
   "metadata": {},
   "outputs": [],
   "source": [
    "from glob import glob\n",
    "from bokeh.layouts import column, gridplot\n",
    "from bokeh.models import HoverTool\n",
    "from bokeh.models.widgets import Panel, Tabs\n",
    "from bokeh.plotting import figure, show, output_file, save, ColumnDataSource\n",
    "from bokeh.palettes import all_palettes"
   ]
  },
  {
   "cell_type": "code",
   "execution_count": 16,
   "metadata": {},
   "outputs": [
    {
     "ename": "IndexError",
     "evalue": "too many indices for array: array is 1-dimensional, but 2 were indexed",
     "output_type": "error",
     "traceback": [
      "\u001b[1;31m---------------------------------------------------------------------------\u001b[0m",
      "\u001b[1;31mIndexError\u001b[0m                                Traceback (most recent call last)",
      "Cell \u001b[1;32mIn [16], line 57\u001b[0m\n\u001b[0;32m     55\u001b[0m p \u001b[39m=\u001b[39m createP()\n\u001b[0;32m     56\u001b[0m ols, opt \u001b[39m=\u001b[39m np\u001b[39m.\u001b[39marray(list_ols), np\u001b[39m.\u001b[39marray(list_opt)\n\u001b[1;32m---> 57\u001b[0m source_ols \u001b[39m=\u001b[39m ColumnDataSource(data\u001b[39m=\u001b[39m\u001b[39mdict\u001b[39m(x\u001b[39m=\u001b[39mols[:, \u001b[39m0\u001b[39;49m], y\u001b[39m=\u001b[39mols[:, \u001b[39m1\u001b[39m], label\u001b[39m=\u001b[39mRVC\u001b[39m.\u001b[39mcol_ex))\n\u001b[0;32m     58\u001b[0m source_opt \u001b[39m=\u001b[39m ColumnDataSource(data\u001b[39m=\u001b[39m\u001b[39mdict\u001b[39m(x\u001b[39m=\u001b[39mopt[:, \u001b[39m0\u001b[39m], y\u001b[39m=\u001b[39mopt[:, \u001b[39m1\u001b[39m], label\u001b[39m=\u001b[39mRVC\u001b[39m.\u001b[39mcol_ex))\n\u001b[0;32m     59\u001b[0m \u001b[39mfor\u001b[39;00m i \u001b[39min\u001b[39;00m \u001b[39mrange\u001b[39m(\u001b[39mlen\u001b[39m(ols)):\n",
      "\u001b[1;31mIndexError\u001b[0m: too many indices for array: array is 1-dimensional, but 2 were indexed"
     ]
    }
   ],
   "source": [
    "# onShow = kwargs[\"onShow\"] if \"onShow\" in kwargs else True\n",
    "# onStore = kwargs[\"onStore\"] if \"onStore\" in kwargs else True\n",
    "# dir_store = kwargs[\"path\"] if \"path\" in kwargs else \".\"\n",
    "# output_name = kwargs[\"output_name\"] if \"output_name\" in kwargs else \".\"\n",
    "\n",
    "colors = all_palettes['Spectral'][len(RVC.comb_nCr)-1]\n",
    "TOOLS = \"pan, wheel_zoom, box_zoom, reset\"\n",
    "\n",
    "def createP():\n",
    "    # p = figure(plot_width=plot_width, plot_height=plot_height, tools=TOOLS)\n",
    "    p = figure(plot_width=800, plot_height=800, tools=TOOLS)\n",
    "    p.sizing_mode = 'scale_height'\n",
    "    p.title.text_font_size = \"20pt\"\n",
    "    p.xaxis.axis_label = \"MSE\"\n",
    "    p.yaxis.axis_label = \"homoscedasticity\"\n",
    "    p.ygrid.grid_line_alpha = 1\n",
    "    p.background_fill_color = \"#dddddd\"\n",
    "    p.background_fill_alpha = 0.5\n",
    "    tips = [(\"(x,y)\", \"($x, $y)\"), (\"label\", \"@label\")]\n",
    "    p.add_tools(HoverTool(tooltips=tips, mode=\"mouse\", point_policy=\"follow_mouse\"))\n",
    "    # p.legend.click_policy = \"mute\"\n",
    "    return p\n",
    "\n",
    "glob_cost = glob(f\"{RVC.dir_temp}/{RVC.now}*\")\n",
    "labels = RVC.label_list\n",
    "\n",
    "list_tab, list_ols, list_opt = [], [], []\n",
    "for i_col in range(len(glob_cost)):\n",
    "    p = createP()\n",
    "    df_out_ = RVC.df_output.iloc[[i_col, -1], :]\n",
    "    col_origin = df_out_.iloc[:, 1].values  # AH, EP\n",
    "\n",
    "    cost_ = pd.read_pickle(glob_cost[i_col]).T\n",
    "    x = cost_[:, 0]  # mse\n",
    "    y = cost_[:, 2]  # homo\n",
    "\n",
    "    idx_opt = labels.index(RVC.res_key[i_col])\n",
    "\n",
    "    for i_ncr in range(len(RVC.comb_nCr)-1):\n",
    "        x0 = x[RVC.comb_nCr[i_ncr]:RVC.comb_nCr[i_ncr+1]]\n",
    "        y0 = y[RVC.comb_nCr[i_ncr]:RVC.comb_nCr[i_ncr+1]]\n",
    "        label0 = labels[RVC.comb_nCr[i_ncr]:RVC.comb_nCr[i_ncr+1]]\n",
    "        source = ColumnDataSource(data=dict(x=x0, y=y0, label=label0))\n",
    "        p.circle('x', 'y', line_width=2.5, alpha=0.8, color=colors[i_ncr], source=source)\n",
    "\n",
    "    p.circle(x[0], y[0], line_width=2.5, size=8, alpha=0.8, color=\"orange\")  # y ~ x\n",
    "    p.circle(x[idx_opt], y[idx_opt], line_width=2.5, size=8, alpha=0.8, color=\"red\")  # opt\n",
    "\n",
    "    list_ols.append([x[0], y[0]])\n",
    "    list_opt.append([x[idx_opt], y[idx_opt]])\n",
    "\n",
    "    tab = Panel(child=p, title=col_origin[0])\n",
    "    list_tab.append(tab)\n",
    "\n",
    "p = createP()\n",
    "ols, opt = np.array(list_ols), np.array(list_opt)\n",
    "source_ols = ColumnDataSource(data=dict(x=ols[:, 0], y=ols[:, 1], label=RVC.col_ex))\n",
    "source_opt = ColumnDataSource(data=dict(x=opt[:, 0], y=opt[:, 1], label=RVC.col_ex))\n",
    "for i in range(len(ols)):\n",
    "    xy = np.vstack([ols[i, :], opt[i, :]])\n",
    "    p.line(xy[:, 0], xy[:, 1], width=2, color=\"black\", line_dash='dotted')\n",
    "p.circle('x', 'y', line_width=2.5, alpha=0.8, color=\"orange\", source=source_ols)\n",
    "p.circle('x', 'y', line_width=2.5, alpha=0.8, color=\"red\", source=source_opt)\n",
    "\n",
    "tab = Panel(child=p, title=\"Compare\")\n",
    "list_tab.append(tab)\n",
    "\n",
    "tabs = Tabs(tabs=list_tab)\n",
    "show(tabs)"
   ]
  },
  {
   "cell_type": "code",
   "execution_count": 21,
   "metadata": {},
   "outputs": [
    {
     "data": {
      "text/plain": [
       "[]"
      ]
     },
     "execution_count": 21,
     "metadata": {},
     "output_type": "execute_result"
    }
   ],
   "source": [
    "glob_cost"
   ]
  },
  {
   "cell_type": "code",
   "execution_count": 20,
   "metadata": {},
   "outputs": [
    {
     "data": {
      "text/plain": [
       "array([], dtype=float64)"
      ]
     },
     "execution_count": 20,
     "metadata": {},
     "output_type": "execute_result"
    }
   ],
   "source": [
    "ols"
   ]
  },
  {
   "cell_type": "code",
   "execution_count": 12,
   "metadata": {},
   "outputs": [
    {
     "data": {
      "text/html": [
       "<div>\n",
       "<style scoped>\n",
       "    .dataframe tbody tr th:only-of-type {\n",
       "        vertical-align: middle;\n",
       "    }\n",
       "\n",
       "    .dataframe tbody tr th {\n",
       "        vertical-align: top;\n",
       "    }\n",
       "\n",
       "    .dataframe thead th {\n",
       "        text-align: right;\n",
       "    }\n",
       "</style>\n",
       "<table border=\"1\" class=\"dataframe\">\n",
       "  <thead>\n",
       "    <tr style=\"text-align: right;\">\n",
       "      <th></th>\n",
       "      <th>formula</th>\n",
       "      <th>col_origin</th>\n",
       "      <th>gap</th>\n",
       "    </tr>\n",
       "  </thead>\n",
       "  <tbody>\n",
       "    <tr>\n",
       "      <th>X0</th>\n",
       "      <td>Y ~ + np.square(X0) + np.power(X0, 3)</td>\n",
       "      <td>AT</td>\n",
       "      <td>0.0</td>\n",
       "    </tr>\n",
       "    <tr>\n",
       "      <th>X1</th>\n",
       "      <td>Y ~ + np.reciprocal(X1)</td>\n",
       "      <td>V</td>\n",
       "      <td>0.0</td>\n",
       "    </tr>\n",
       "    <tr>\n",
       "      <th>X2</th>\n",
       "      <td>Y ~ + np.power(X2, 3)</td>\n",
       "      <td>AP</td>\n",
       "      <td>0.0</td>\n",
       "    </tr>\n",
       "    <tr>\n",
       "      <th>X3</th>\n",
       "      <td>Y ~ + X3:np.log(X3)</td>\n",
       "      <td>RH</td>\n",
       "      <td>0.0</td>\n",
       "    </tr>\n",
       "    <tr>\n",
       "      <th>Y</th>\n",
       "      <td>None</td>\n",
       "      <td>EP</td>\n",
       "      <td>NaN</td>\n",
       "    </tr>\n",
       "  </tbody>\n",
       "</table>\n",
       "</div>"
      ],
      "text/plain": [
       "                                   formula col_origin  gap\n",
       "X0  Y ~ + np.square(X0) + np.power(X0, 3)          AT  0.0\n",
       "X1                Y ~ + np.reciprocal(X1)           V  0.0\n",
       "X2                  Y ~ + np.power(X2, 3)          AP  0.0\n",
       "X3                    Y ~ + X3:np.log(X3)          RH  0.0\n",
       "Y                                     None         EP  NaN"
      ]
     },
     "execution_count": 12,
     "metadata": {},
     "output_type": "execute_result"
    }
   ],
   "source": [
    "RVC.df_output"
   ]
  },
  {
   "cell_type": "code",
   "execution_count": null,
   "metadata": {},
   "outputs": [],
   "source": []
  }
 ],
 "metadata": {
  "kernelspec": {
   "display_name": "Python 3.9.12 ('v39')",
   "language": "python",
   "name": "python3"
  },
  "language_info": {
   "codemirror_mode": {
    "name": "ipython",
    "version": 3
   },
   "file_extension": ".py",
   "mimetype": "text/x-python",
   "name": "python",
   "nbconvert_exporter": "python",
   "pygments_lexer": "ipython3",
   "version": "3.9.12"
  },
  "orig_nbformat": 4,
  "vscode": {
   "interpreter": {
    "hash": "8a6bfd200c7cf5adb010f5ccf3201bdc50fbb61960f2054d83ce51c0679fd34a"
   }
  }
 },
 "nbformat": 4,
 "nbformat_minor": 2
}
