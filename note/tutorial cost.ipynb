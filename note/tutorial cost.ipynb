{
 "cells": [
  {
   "cell_type": "code",
   "execution_count": 1,
   "metadata": {},
   "outputs": [],
   "source": [
    "import sys\n",
    "sys.path.append(\"..\")\n",
    "\n",
    "import numpy as np\n",
    "import pandas as pd\n",
    "import matplotlib.pyplot as plt\n",
    "import seaborn as sns\n",
    "from pathlib import Path\n",
    "import statsmodels.api as sm\n",
    "import statsmodels.formula.api as smf\n",
    "\n",
    "from rvc import rvc"
   ]
  },
  {
   "cell_type": "code",
   "execution_count": 3,
   "metadata": {},
   "outputs": [
    {
     "name": "stderr",
     "output_type": "stream",
     "text": [
      "100%|██████████| 5/5 [00:16<00:00,  3.26s/it]\n"
     ]
    },
    {
     "name": "stdout",
     "output_type": "stream",
     "text": [
      "[Result/X0]:mse,homo:2,4 >> homo\n"
     ]
    },
    {
     "name": "stderr",
     "output_type": "stream",
     "text": [
      "100%|██████████| 5/5 [00:15<00:00,  3.17s/it]\n"
     ]
    },
    {
     "name": "stdout",
     "output_type": "stream",
     "text": [
      "[Result/X1]:mse,homo:4,5 >> homo\n"
     ]
    },
    {
     "name": "stderr",
     "output_type": "stream",
     "text": [
      "100%|██████████| 5/5 [00:15<00:00,  3.13s/it]\n"
     ]
    },
    {
     "name": "stdout",
     "output_type": "stream",
     "text": [
      "[Result/X2]:r is 0.2711404582935719 >> 1d\n"
     ]
    },
    {
     "name": "stderr",
     "output_type": "stream",
     "text": [
      "100%|██████████| 5/5 [00:17<00:00,  3.40s/it]"
     ]
    },
    {
     "name": "stdout",
     "output_type": "stream",
     "text": [
      "[Result/X3]:r is 0.1535596796629648 >> 1d\n"
     ]
    },
    {
     "name": "stderr",
     "output_type": "stream",
     "text": [
      "\n"
     ]
    }
   ],
   "source": [
    "dfx = pd.read_csv(\"../data/df_g1.csv\", index_col=0, usecols=[0, 1, 2, 3, 4, 5])\n",
    "RVC = rvc()\n",
    "out = RVC.fit(dfx, \"EP\")"
   ]
  },
  {
   "cell_type": "code",
   "execution_count": 4,
   "metadata": {},
   "outputs": [],
   "source": [
    "from glob import glob\n",
    "from bokeh.layouts import column, gridplot\n",
    "from bokeh.models import HoverTool\n",
    "from bokeh.models.widgets import Panel, Tabs\n",
    "from bokeh.plotting import figure, show, output_file, save, ColumnDataSource\n",
    "from bokeh.palettes import all_palettes"
   ]
  },
  {
   "cell_type": "code",
   "execution_count": 5,
   "metadata": {},
   "outputs": [],
   "source": [
    "# onShow = kwargs[\"onShow\"] if \"onShow\" in kwargs else True\n",
    "# onStore = kwargs[\"onStore\"] if \"onStore\" in kwargs else True\n",
    "# dir_store = kwargs[\"path\"] if \"path\" in kwargs else \".\"\n",
    "# output_name = kwargs[\"output_name\"] if \"output_name\" in kwargs else \".\"\n",
    "\n",
    "colors = all_palettes['Spectral'][len(RVC.comb_nCr)-1]\n",
    "TOOLS = \"pan, wheel_zoom, box_zoom, reset\"\n",
    "\n",
    "def createP():\n",
    "    # p = figure(plot_width=plot_width, plot_height=plot_height, tools=TOOLS)\n",
    "    p = figure(plot_width=800, plot_height=800, tools=TOOLS)\n",
    "    p.sizing_mode = 'scale_height'\n",
    "    p.title.text_font_size = \"20pt\"\n",
    "    p.xaxis.axis_label = \"MSE\"\n",
    "    p.yaxis.axis_label = \"homoscedasticity\"\n",
    "    p.ygrid.grid_line_alpha = 1\n",
    "    p.background_fill_color = \"#dddddd\"\n",
    "    p.background_fill_alpha = 0.5\n",
    "    tips = [(\"(x,y)\", \"($x, $y)\"), (\"label\", \"@label\")]\n",
    "    p.add_tools(HoverTool(tooltips=tips, mode=\"mouse\", point_policy=\"follow_mouse\"))\n",
    "    # p.legend.click_policy = \"mute\"\n",
    "    return p\n",
    "\n",
    "glob_cost = glob(f\"{RVC.dir_temp}/{RVC.now}*\")\n",
    "labels = RVC.label_list\n",
    "\n",
    "list_tab, list_ols, list_opt = [], [], []\n",
    "for i_col in range(len(glob_cost)):\n",
    "    p = createP()\n",
    "    df_out_ = RVC.df_output.iloc[[i_col, -1], :]\n",
    "    col_origin = df_out_.iloc[:, 1].values  # AH, EP\n",
    "\n",
    "    cost_ = pd.read_pickle(glob_cost[i_col]).T\n",
    "    x = cost_[:, 0]  # mse\n",
    "    y = cost_[:, 2]  # homo\n",
    "\n",
    "    idx_opt = labels.index(RVC.res_key[i_col])\n",
    "\n",
    "    for i_ncr in range(len(RVC.comb_nCr)-1):\n",
    "        x0 = x[RVC.comb_nCr[i_ncr]:RVC.comb_nCr[i_ncr+1]]\n",
    "        y0 = y[RVC.comb_nCr[i_ncr]:RVC.comb_nCr[i_ncr+1]]\n",
    "        label0 = labels[RVC.comb_nCr[i_ncr]:RVC.comb_nCr[i_ncr+1]]\n",
    "        source = ColumnDataSource(data=dict(x=x0, y=y0, label=label0))\n",
    "        p.circle('x', 'y', line_width=2.5, alpha=0.8, color=colors[i_ncr], source=source)\n",
    "\n",
    "    p.circle(x[0], y[0], line_width=2.5, size=8, alpha=0.8, color=\"orange\")  # y ~ x\n",
    "    p.circle(x[idx_opt], y[idx_opt], line_width=2.5, size=8, alpha=0.8, color=\"red\")  # opt\n",
    "\n",
    "    list_ols.append([x[0], y[0]])\n",
    "    list_opt.append([x[idx_opt], y[idx_opt]])\n",
    "\n",
    "    tab = Panel(child=p, title=col_origin[0])\n",
    "    list_tab.append(tab)\n",
    "\n",
    "p = createP()\n",
    "ols, opt = np.array(list_ols), np.array(list_opt)\n",
    "source_ols = ColumnDataSource(data=dict(x=ols[:, 0], y=ols[:, 1], label=RVC.col_ex))\n",
    "source_opt = ColumnDataSource(data=dict(x=opt[:, 0], y=opt[:, 1], label=RVC.col_ex))\n",
    "for i in range(len(ols)):\n",
    "    xy = np.vstack([ols[i, :], opt[i, :]])\n",
    "    p.line(xy[:, 0], xy[:, 1], width=2, color=\"black\", line_dash='dotted')\n",
    "p.circle('x', 'y', line_width=2.5, alpha=0.8, color=\"orange\", source=source_ols)\n",
    "p.circle('x', 'y', line_width=2.5, alpha=0.8, color=\"red\", source=source_opt)\n",
    "\n",
    "tab = Panel(child=p, title=\"Compare\")\n",
    "list_tab.append(tab)\n",
    "\n",
    "tabs = Tabs(tabs=list_tab)\n",
    "show(tabs)"
   ]
  }
 ],
 "metadata": {
  "kernelspec": {
   "display_name": "Python 3.9.12 ('v39')",
   "language": "python",
   "name": "python3"
  },
  "language_info": {
   "codemirror_mode": {
    "name": "ipython",
    "version": 3
   },
   "file_extension": ".py",
   "mimetype": "text/x-python",
   "name": "python",
   "nbconvert_exporter": "python",
   "pygments_lexer": "ipython3",
   "version": "3.9.12"
  },
  "orig_nbformat": 4,
  "vscode": {
   "interpreter": {
    "hash": "8a6bfd200c7cf5adb010f5ccf3201bdc50fbb61960f2054d83ce51c0679fd34a"
   }
  }
 },
 "nbformat": 4,
 "nbformat_minor": 2
}
